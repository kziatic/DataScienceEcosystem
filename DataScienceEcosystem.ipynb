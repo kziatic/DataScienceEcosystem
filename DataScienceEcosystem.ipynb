{
 "cells": [
  {
   "cell_type": "markdown",
   "id": "b77b444a",
   "metadata": {},
   "source": [
    "# Data Science Tools and Ecosystem"
   ]
  },
  {
   "cell_type": "markdown",
   "id": "d701fb72",
   "metadata": {},
   "source": [
    "In this notebook, Data Science Tools and Ecosystem are summarized."
   ]
  },
  {
   "cell_type": "markdown",
   "id": "259f40b0",
   "metadata": {},
   "source": [
    "**Objectives:**"
   ]
  },
  {
   "cell_type": "markdown",
   "id": "0f08bea3",
   "metadata": {},
   "source": [
    "* List popular languages used in Data Science\n",
    "* Open Source IDEs used in Data Science\n",
    "* Calculating mathematical expressions in Python"
   ]
  },
  {
   "cell_type": "markdown",
   "id": "c56cd963",
   "metadata": {},
   "source": [
    "## Author\n",
    "Keith Clarke"
   ]
  },
  {
   "cell_type": "markdown",
   "id": "b9d31022",
   "metadata": {},
   "source": [
    "Some of the popular languages that Data Scientists use are:\n",
    "1. Python\n",
    "2. SQL\n",
    "3. R\n",
    "4. Java\n",
    "5. Javascript\n",
    "6. C++"
   ]
  },
  {
   "cell_type": "markdown",
   "id": "df2f8b29",
   "metadata": {},
   "source": [
    "|Data Science Tools|\n",
    "|:----------------:|\n",
    "|RStudio           |\n",
    "|VSCode            |\n",
    "|JypyterLab        |"
   ]
  },
  {
   "cell_type": "markdown",
   "id": "235d92c1",
   "metadata": {},
   "source": [
    "### Below are a few examples of evaluating arithmetic epressions in Python."
   ]
  },
  {
   "cell_type": "code",
   "execution_count": 4,
   "id": "991b3dd2",
   "metadata": {},
   "outputs": [
    {
     "data": {
      "text/plain": [
       "17"
      ]
     },
     "execution_count": 4,
     "metadata": {},
     "output_type": "execute_result"
    }
   ],
   "source": [
    "#This is a simple arithmetic expression to multiply then add integers\n",
    "(3*4)+5"
   ]
  },
  {
   "cell_type": "code",
   "execution_count": 9,
   "id": "08afcb97",
   "metadata": {},
   "outputs": [
    {
     "data": {
      "text/plain": [
       "3.3333333333333335"
      ]
     },
     "execution_count": 9,
     "metadata": {},
     "output_type": "execute_result"
    }
   ],
   "source": [
    "#This will convert 200 minutes to hours by dividing by 60\n",
    "(200/60)"
   ]
  }
 ],
 "metadata": {
  "kernelspec": {
   "display_name": "Python 3 (ipykernel)",
   "language": "python",
   "name": "python3"
  },
  "language_info": {
   "codemirror_mode": {
    "name": "ipython",
    "version": 3
   },
   "file_extension": ".py",
   "mimetype": "text/x-python",
   "name": "python",
   "nbconvert_exporter": "python",
   "pygments_lexer": "ipython3",
   "version": "3.10.9"
  }
 },
 "nbformat": 4,
 "nbformat_minor": 5
}
